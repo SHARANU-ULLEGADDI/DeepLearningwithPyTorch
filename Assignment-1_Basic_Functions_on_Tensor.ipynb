{
 "cells": [
  {
   "cell_type": "markdown",
   "metadata": {
    "colab_type": "text",
    "id": "qSEDPhcoJwW6"
   },
   "source": [
    "\n",
    "# Some Functions on Tensor Assignment 1 PyTorch Zero to GANs\n",
    "\n",
    "An short introduction about PyTorch and about the chosen functions. \n",
    "\n",
    "*   Function 1 : torch.arange()\n",
    "*   Function 2 : torch.cat()\n",
    "*   Function 3 : torch.view()\n",
    "*   Function 4 : torch.diag()\n",
    "*   Function 5 : touch.cat()"
   ]
  },
  {
   "cell_type": "code",
   "execution_count": 0,
   "metadata": {
    "colab": {},
    "colab_type": "code",
    "id": "-I8j8OQPJwW9"
   },
   "outputs": [],
   "source": [
    "# Import torch and other required modules\n",
    "import torch"
   ]
  },
  {
   "cell_type": "markdown",
   "metadata": {
    "colab_type": "text",
    "id": "7jFMZCJGJwXI"
   },
   "source": [
    "## Function 1 -torch.arange()\n",
    "\n",
    "Returns a 1-D tensor of size end-start/step with values from the interval [start, end) taken with common difference step beginning from start.\n",
    "\n"
   ]
  },
  {
   "cell_type": "code",
   "execution_count": 3,
   "metadata": {
    "colab": {
     "base_uri": "https://localhost:8080/",
     "height": 34
    },
    "colab_type": "code",
    "id": "65NVyAxrJwXJ",
    "outputId": "adc56e5d-6e46-46cf-de24-492f8082fcaa"
   },
   "outputs": [
    {
     "data": {
      "text/plain": [
       "tensor([0, 3, 6, 9])"
      ]
     },
     "execution_count": 3,
     "metadata": {
      "tags": []
     },
     "output_type": "execute_result"
    }
   ],
   "source": [
    "# Example 1\n",
    "torch.arange(start=0,end=10,step=3)"
   ]
  },
  {
   "cell_type": "markdown",
   "metadata": {
    "colab_type": "text",
    "id": "IjB4YxO8JwXV"
   },
   "source": [
    "We create a tensor using arange function where we give start to be 0 and end to be 10 wit step 3 . So the first value will be zero and later i+3,\n",
    "\n"
   ]
  },
  {
   "cell_type": "code",
   "execution_count": 4,
   "metadata": {
    "colab": {
     "base_uri": "https://localhost:8080/",
     "height": 34
    },
    "colab_type": "code",
    "id": "-XKaJdFgJwXW",
    "outputId": "e535a15c-4c2c-4001-9b4c-bf988e487e1a"
   },
   "outputs": [
    {
     "data": {
      "text/plain": [
       "tensor([1.0000, 1.2000, 1.4000])"
      ]
     },
     "execution_count": 4,
     "metadata": {
      "tags": []
     },
     "output_type": "execute_result"
    }
   ],
   "source": [
    "# Example 2\n",
    "torch.arange(1,1.5,0.2)"
   ]
  },
  {
   "cell_type": "markdown",
   "metadata": {
    "colab_type": "text",
    "id": "9coWSft-JwXe"
   },
   "source": [
    "We can also give it a float value and in return we get a list of tensors .\n",
    "\n"
   ]
  },
  {
   "cell_type": "code",
   "execution_count": 5,
   "metadata": {
    "colab": {
     "base_uri": "https://localhost:8080/",
     "height": 178
    },
    "colab_type": "code",
    "id": "xsNwvJwXJwXg",
    "outputId": "d0ababab-2f87-465c-82e7-08833bb400e9"
   },
   "outputs": [
    {
     "ename": "TypeError",
     "evalue": "ignored",
     "output_type": "error",
     "traceback": [
      "\u001b[0;31m---------------------------------------------------------------------------\u001b[0m",
      "\u001b[0;31mTypeError\u001b[0m                                 Traceback (most recent call last)",
      "\u001b[0;32m<ipython-input-5-97d2ca80bf59>\u001b[0m in \u001b[0;36m<module>\u001b[0;34m()\u001b[0m\n\u001b[1;32m      1\u001b[0m \u001b[0;31m# Example 3 - breaking\u001b[0m\u001b[0;34m\u001b[0m\u001b[0;34m\u001b[0m\u001b[0;34m\u001b[0m\u001b[0m\n\u001b[0;32m----> 2\u001b[0;31m \u001b[0mtorch\u001b[0m\u001b[0;34m.\u001b[0m\u001b[0marange\u001b[0m\u001b[0;34m(\u001b[0m\u001b[0;34m[\u001b[0m\u001b[0;36m1\u001b[0m\u001b[0;34m,\u001b[0m\u001b[0;36m2\u001b[0m\u001b[0;34m,\u001b[0m\u001b[0;36m3\u001b[0m\u001b[0;34m]\u001b[0m\u001b[0;34m)\u001b[0m\u001b[0;34m\u001b[0m\u001b[0;34m\u001b[0m\u001b[0m\n\u001b[0m",
      "\u001b[0;31mTypeError\u001b[0m: arange(): argument 'end' (position 1) must be Number, not list"
     ]
    }
   ],
   "source": [
    "# Example 3 - breaking \n",
    "torch.arange([1,2,3])"
   ]
  },
  {
   "cell_type": "markdown",
   "metadata": {
    "colab_type": "text",
    "id": "Vuyq05blJwXo"
   },
   "source": [
    "We cannot pass list when creating a tensor using arange , it only accepts start , end and step\n",
    "\n",
    "Use this function when you need a specific tensors values"
   ]
  },
  {
   "cell_type": "markdown",
   "metadata": {
    "colab_type": "text",
    "id": "YoBbpJ6UJwXp"
   },
   "source": [
    "Closing comments about when to use this function"
   ]
  },
  {
   "cell_type": "markdown",
   "metadata": {
    "colab_type": "text",
    "id": "eHyng1z7JwXr"
   },
   "source": [
    "# Function 2 - torch.cat()\n",
    "Concatenates the given sequence of seq tensors in the given dimension. 0-row 1-column"
   ]
  },
  {
   "cell_type": "code",
   "execution_count": 0,
   "metadata": {
    "colab": {},
    "colab_type": "code",
    "id": "44YSQPnRJwXs"
   },
   "outputs": [],
   "source": [
    "# Example 1 - working\n",
    "x = torch.arange(1,10,3)\n",
    "x\n",
    "torch.cat((x,x,x),0)"
   ]
  },
  {
   "cell_type": "markdown",
   "metadata": {
    "colab_type": "text",
    "id": "OaHK3KQbJwX2"
   },
   "source": [
    "First we create a tensor using arange function and then concatenate 3 times in rows\n",
    "\n"
   ]
  },
  {
   "cell_type": "code",
   "execution_count": 6,
   "metadata": {
    "colab": {
     "base_uri": "https://localhost:8080/",
     "height": 134
    },
    "colab_type": "code",
    "id": "_b_eq8zhJwX3",
    "outputId": "651f058a-804f-4eb9-f7ca-f735bae68e64"
   },
   "outputs": [
    {
     "data": {
      "text/plain": [
       "tensor([[ 1,  3],\n",
       "        [ 5,  7],\n",
       "        [ 9, 11],\n",
       "        [13, 15],\n",
       "        [17, 19],\n",
       "        [21, 23],\n",
       "        [ 1,  2]])"
      ]
     },
     "execution_count": 6,
     "metadata": {
      "tags": []
     },
     "output_type": "execute_result"
    }
   ],
   "source": [
    "# Example 2 - working\n",
    "new_data = torch.arange(1,24,2).reshape(-1,2)\n",
    "new_data\n",
    "torch.cat((new_data , torch.tensor([[1,2]])),0)"
   ]
  },
  {
   "cell_type": "markdown",
   "metadata": {
    "colab_type": "text",
    "id": "R9De9Zr_JwX-"
   },
   "source": [
    "First we create a two dimensional arary and then concatenate them in rows\n",
    "\n"
   ]
  },
  {
   "cell_type": "code",
   "execution_count": 7,
   "metadata": {
    "colab": {
     "base_uri": "https://localhost:8080/",
     "height": 212
    },
    "colab_type": "code",
    "id": "6c9sO3rxJwYA",
    "outputId": "e29d9342-4ed9-4cfc-e6e7-0c3b1af2ee4a"
   },
   "outputs": [
    {
     "ename": "NameError",
     "evalue": "ignored",
     "output_type": "error",
     "traceback": [
      "\u001b[0;31m---------------------------------------------------------------------------\u001b[0m",
      "\u001b[0;31mNameError\u001b[0m                                 Traceback (most recent call last)",
      "\u001b[0;32m<ipython-input-7-d4c900ef5b98>\u001b[0m in \u001b[0;36m<module>\u001b[0;34m()\u001b[0m\n\u001b[1;32m      1\u001b[0m \u001b[0;31m# Example 3 - breaking\u001b[0m\u001b[0;34m\u001b[0m\u001b[0;34m\u001b[0m\u001b[0;34m\u001b[0m\u001b[0m\n\u001b[1;32m      2\u001b[0m \u001b[0mnew_data\u001b[0m\u001b[0;34m\u001b[0m\u001b[0;34m\u001b[0m\u001b[0m\n\u001b[0;32m----> 3\u001b[0;31m \u001b[0mx\u001b[0m\u001b[0;34m\u001b[0m\u001b[0;34m\u001b[0m\u001b[0m\n\u001b[0m\u001b[1;32m      4\u001b[0m \u001b[0mtorch\u001b[0m\u001b[0;34m.\u001b[0m\u001b[0mcat\u001b[0m\u001b[0;34m(\u001b[0m\u001b[0;34m(\u001b[0m\u001b[0mnew_data\u001b[0m\u001b[0;34m,\u001b[0m\u001b[0mx\u001b[0m\u001b[0;34m)\u001b[0m\u001b[0;34m)\u001b[0m\u001b[0;34m\u001b[0m\u001b[0;34m\u001b[0m\u001b[0m\n",
      "\u001b[0;31mNameError\u001b[0m: name 'x' is not defined"
     ]
    }
   ],
   "source": [
    "# Example 3 - breaking \n",
    "new_data\n",
    "x\n",
    "torch.cat((new_data,x))"
   ]
  },
  {
   "cell_type": "markdown",
   "metadata": {
    "colab_type": "text",
    "id": "w1UInClGJwYE"
   },
   "source": [
    "When concatating tensor should have same dimesion , here when we tried to concat a tensor with (1,) dim with tensor with (2,) dim it thrown an error\n",
    "\n",
    "\n",
    "*   Use this function when u want to make two tensor into one\n",
    "\n",
    "\n",
    "\n",
    "\n",
    "\n"
   ]
  },
  {
   "cell_type": "markdown",
   "metadata": {
    "colab_type": "text",
    "id": "OJb6l7uaJwYG"
   },
   "source": [
    "Closing comments about when to use this function"
   ]
  },
  {
   "cell_type": "markdown",
   "metadata": {
    "colab_type": "text",
    "id": "LJOzFp58JwYH"
   },
   "source": [
    "## Function 3 - torch.view()\n",
    "view() modifies the shape of the tensor. tensor.view returns a tensor that has the same data and same number of elements as the original tensor but changes only the shape of the tensor. view() does not change the underlaying data but only the shape.\n"
   ]
  },
  {
   "cell_type": "code",
   "execution_count": 8,
   "metadata": {
    "colab": {
     "base_uri": "https://localhost:8080/",
     "height": 67
    },
    "colab_type": "code",
    "id": "8peotokMJwYI",
    "outputId": "c7938f8b-cb2d-46bb-f197-fdbf045778ba"
   },
   "outputs": [
    {
     "name": "stdout",
     "output_type": "stream",
     "text": [
      "torch.Size([3, 5])\n",
      "torch.Size([15])\n",
      "torch.Size([5, 3])\n"
     ]
    }
   ],
   "source": [
    "# Example 1 - working \n",
    "a = torch.rand(3,5)\n",
    "print(a.size())\n",
    "b = a.view(15)\n",
    "print(b.size())\n",
    "c = a.view(-1,3)\n",
    "print(c.size())"
   ]
  },
  {
   "cell_type": "markdown",
   "metadata": {
    "colab_type": "text",
    "id": "3U0sM7jJJwYL"
   },
   "source": [
    "b is a tensor created from a.view(15) that reshaped the 2D tensor into a 1D tensor. To create tensor c from a using tensor.view we passed the first dimension as -1 and second dimension as 3. The first dimension is inferred from the shape of original tensor.\n",
    "\n"
   ]
  },
  {
   "cell_type": "code",
   "execution_count": 9,
   "metadata": {
    "colab": {
     "base_uri": "https://localhost:8080/",
     "height": 151
    },
    "colab_type": "code",
    "id": "IMLK_OitJwYM",
    "outputId": "7289b875-5ab7-4592-c6fa-f29fe5ddd2d8"
   },
   "outputs": [
    {
     "name": "stdout",
     "output_type": "stream",
     "text": [
      "tensor([[1, 2, 3],\n",
      "        [4, 5, 6]])\n",
      "tensor([[[1, 2]],\n",
      "\n",
      "        [[3, 4]],\n",
      "\n",
      "        [[5, 6]]]) \n",
      " torch.Size([3, 1, 2])\n"
     ]
    }
   ],
   "source": [
    "# Example 2 - working\n",
    "# Create tensor from NumPy array\n",
    "a = torch.tensor([[1, 2, 3], [4, 5, 6]])\n",
    "print(a)\n",
    "# Reshape to 3 dimensions: 3 rows, 1 cols, array of 2 items in last dimension\n",
    "b = a.view(-1, 1, 2)\n",
    "print(b, '\\n', b.shape)"
   ]
  },
  {
   "cell_type": "markdown",
   "metadata": {
    "colab_type": "text",
    "id": "lehKDZaGJwYQ"
   },
   "source": [
    "In this example, tensor a is reshaped from 2D to a 3D tensor using tensor.view\n",
    "\n"
   ]
  },
  {
   "cell_type": "code",
   "execution_count": 10,
   "metadata": {
    "colab": {
     "base_uri": "https://localhost:8080/",
     "height": 195
    },
    "colab_type": "code",
    "id": "6-BIVh-pJwYR",
    "outputId": "3a209559-b234-41c7-c03f-2e6aa7a166cf"
   },
   "outputs": [
    {
     "ename": "RuntimeError",
     "evalue": "ignored",
     "output_type": "error",
     "traceback": [
      "\u001b[0;31m---------------------------------------------------------------------------\u001b[0m",
      "\u001b[0;31mRuntimeError\u001b[0m                              Traceback (most recent call last)",
      "\u001b[0;32m<ipython-input-10-34660672f2bc>\u001b[0m in \u001b[0;36m<module>\u001b[0;34m()\u001b[0m\n\u001b[1;32m      1\u001b[0m \u001b[0;31m# Example 3 - breaking\u001b[0m\u001b[0;34m\u001b[0m\u001b[0;34m\u001b[0m\u001b[0;34m\u001b[0m\u001b[0m\n\u001b[1;32m      2\u001b[0m \u001b[0ma\u001b[0m \u001b[0;34m=\u001b[0m \u001b[0mtorch\u001b[0m\u001b[0;34m.\u001b[0m\u001b[0mrand\u001b[0m\u001b[0;34m(\u001b[0m\u001b[0;36m3\u001b[0m\u001b[0;34m,\u001b[0m\u001b[0;36m5\u001b[0m\u001b[0;34m)\u001b[0m\u001b[0;34m\u001b[0m\u001b[0;34m\u001b[0m\u001b[0m\n\u001b[0;32m----> 3\u001b[0;31m \u001b[0mb\u001b[0m \u001b[0;34m=\u001b[0m \u001b[0ma\u001b[0m\u001b[0;34m.\u001b[0m\u001b[0mview\u001b[0m\u001b[0;34m(\u001b[0m\u001b[0;34m-\u001b[0m\u001b[0;36m1\u001b[0m\u001b[0;34m,\u001b[0m\u001b[0;36m2\u001b[0m\u001b[0;34m)\u001b[0m\u001b[0;34m\u001b[0m\u001b[0;34m\u001b[0m\u001b[0m\n\u001b[0m",
      "\u001b[0;31mRuntimeError\u001b[0m: shape '[-1, 2]' is invalid for input of size 15"
     ]
    }
   ],
   "source": [
    "# Example 3 - breaking\n",
    "a = torch.rand(3,5)\n",
    "b = a.view(-1,2)"
   ]
  },
  {
   "cell_type": "markdown",
   "metadata": {
    "colab_type": "text",
    "id": "d8Ryq9PgJwYX"
   },
   "source": [
    "The size of new tensor to be viewed should be compatible with the size of the original tensor. If not it throws an error. In this example, it is not possible to reshape the original tensor to have 2 columns as the number of elements in original tensor is not divisible by 2."
   ]
  },
  {
   "cell_type": "markdown",
   "metadata": {
    "colab_type": "text",
    "id": "nAqnVjlBJwYZ"
   },
   "source": [
    "tensor.view is a very useful function while reshapeing a tensor."
   ]
  },
  {
   "cell_type": "markdown",
   "metadata": {
    "colab_type": "text",
    "id": "5uVCRNeuJwYa"
   },
   "source": [
    "## Function 4 - torch.diag(input, diagonal=0, out=None)\n",
    "\n",
    "Used while dealing with the diagonal **elements**"
   ]
  },
  {
   "cell_type": "code",
   "execution_count": 11,
   "metadata": {
    "colab": {
     "base_uri": "https://localhost:8080/",
     "height": 34
    },
    "colab_type": "code",
    "id": "TVq7W__3JwYb",
    "outputId": "75191a3f-6999-4658-d8aa-de195eaee1a7"
   },
   "outputs": [
    {
     "data": {
      "text/plain": [
       "tensor([-0.6226, -0.7727,  0.2172])"
      ]
     },
     "execution_count": 11,
     "metadata": {
      "tags": []
     },
     "output_type": "execute_result"
    }
   ],
   "source": [
    "# Example 1 - \n",
    "a = torch.randn(3)\n",
    "a\n"
   ]
  },
  {
   "cell_type": "code",
   "execution_count": 12,
   "metadata": {
    "colab": {
     "base_uri": "https://localhost:8080/",
     "height": 67
    },
    "colab_type": "code",
    "id": "W1SUx6AgOO98",
    "outputId": "8fb2ec7a-5ef7-4d97-e857-40c6eab4d080"
   },
   "outputs": [
    {
     "data": {
      "text/plain": [
       "tensor([[-0.6226,  0.0000,  0.0000],\n",
       "        [ 0.0000, -0.7727,  0.0000],\n",
       "        [ 0.0000,  0.0000,  0.2172]])"
      ]
     },
     "execution_count": 12,
     "metadata": {
      "tags": []
     },
     "output_type": "execute_result"
    }
   ],
   "source": [
    "torch.diag(a)"
   ]
  },
  {
   "cell_type": "markdown",
   "metadata": {
    "colab_type": "text",
    "id": "vyy3_ruXJwYi"
   },
   "source": [
    "We can see the 1D array elements has been converted to 3D, where the array elments are converted into Diagonal Elements"
   ]
  },
  {
   "cell_type": "code",
   "execution_count": 13,
   "metadata": {
    "colab": {
     "base_uri": "https://localhost:8080/",
     "height": 84
    },
    "colab_type": "code",
    "id": "A-qb34sKJwYk",
    "outputId": "a66c50a1-bd05-4b0d-af71-1c7ca379c56e"
   },
   "outputs": [
    {
     "data": {
      "text/plain": [
       "tensor([[ 0.0000, -0.6226,  0.0000,  0.0000],\n",
       "        [ 0.0000,  0.0000, -0.7727,  0.0000],\n",
       "        [ 0.0000,  0.0000,  0.0000,  0.2172],\n",
       "        [ 0.0000,  0.0000,  0.0000,  0.0000]])"
      ]
     },
     "execution_count": 13,
     "metadata": {
      "tags": []
     },
     "output_type": "execute_result"
    }
   ],
   "source": [
    "# Example 2 - \n",
    "torch.diag(a, 1)"
   ]
  },
  {
   "cell_type": "markdown",
   "metadata": {
    "colab_type": "text",
    "id": "Zvgt7qTQJwYr"
   },
   "source": [
    "We can see that by using 1 while defining the function we can set where to get the diagonal Elements."
   ]
  },
  {
   "cell_type": "code",
   "execution_count": 14,
   "metadata": {
    "colab": {
     "base_uri": "https://localhost:8080/",
     "height": 67
    },
    "colab_type": "code",
    "id": "nbrtpP0jJwYs",
    "outputId": "9ca90b67-dec5-4cdd-ccf1-ff07358cc0af"
   },
   "outputs": [
    {
     "data": {
      "text/plain": [
       "tensor([[ 0.5209, -1.5485,  1.5142],\n",
       "        [-0.0901, -0.3162,  1.8853],\n",
       "        [-0.8377, -1.3644, -1.6201]])"
      ]
     },
     "execution_count": 14,
     "metadata": {
      "tags": []
     },
     "output_type": "execute_result"
    }
   ],
   "source": [
    "# Example 3 - \n",
    "#Get the k-th diagonal of a given matrix:\n",
    "a = torch.randn(3, 3)\n",
    "a"
   ]
  },
  {
   "cell_type": "code",
   "execution_count": 15,
   "metadata": {
    "colab": {
     "base_uri": "https://localhost:8080/",
     "height": 34
    },
    "colab_type": "code",
    "id": "46-xMMbvPPXk",
    "outputId": "c5fb11f4-cbe0-4c30-929d-dc5298d82452"
   },
   "outputs": [
    {
     "data": {
      "text/plain": [
       "tensor([ 0.5209, -0.3162, -1.6201])"
      ]
     },
     "execution_count": 15,
     "metadata": {
      "tags": []
     },
     "output_type": "execute_result"
    }
   ],
   "source": [
    "torch.diag(a, 0)"
   ]
  },
  {
   "cell_type": "code",
   "execution_count": 16,
   "metadata": {
    "colab": {
     "base_uri": "https://localhost:8080/",
     "height": 34
    },
    "colab_type": "code",
    "id": "EbbxuplkPO7Y",
    "outputId": "748be0fd-7668-493e-afc9-3b5f9321c751"
   },
   "outputs": [
    {
     "data": {
      "text/plain": [
       "tensor([-1.5485,  1.8853])"
      ]
     },
     "execution_count": 16,
     "metadata": {
      "tags": []
     },
     "output_type": "execute_result"
    }
   ],
   "source": [
    "torch.diag(a, 1)"
   ]
  },
  {
   "cell_type": "markdown",
   "metadata": {
    "colab_type": "text",
    "id": "fm_2CIDdJwYz"
   },
   "source": [
    "We can even get the Diagonal elements and also we can select which diagonal elemets we are going to select."
   ]
  },
  {
   "cell_type": "markdown",
   "metadata": {
    "colab_type": "text",
    "id": "jQo4to47JwY1"
   },
   "source": [
    "Diagonal functions heelp when we are required to deal with diagonal elements in a multi dimensional-tensor"
   ]
  },
  {
   "cell_type": "markdown",
   "metadata": {
    "colab_type": "text",
    "id": "APGdY00gJwY2"
   },
   "source": [
    "## Function 5 - touch.cat()\n",
    "\n",
    "Used to Concat two tensors\n",
    "\n"
   ]
  },
  {
   "cell_type": "code",
   "execution_count": 17,
   "metadata": {
    "colab": {
     "base_uri": "https://localhost:8080/",
     "height": 84
    },
    "colab_type": "code",
    "id": "oOi4O6TjJwY4",
    "outputId": "3d69cbc3-14b8-425b-e79b-18878b4b2051"
   },
   "outputs": [
    {
     "data": {
      "text/plain": [
       "tensor([[ 1,  2,  3],\n",
       "        [ 4,  5,  6],\n",
       "        [ 7,  8,  9],\n",
       "        [10, 11, 12]])"
      ]
     },
     "execution_count": 17,
     "metadata": {
      "tags": []
     },
     "output_type": "execute_result"
    }
   ],
   "source": [
    "# Example 1\n",
    "\n",
    "x = torch.tensor([[1,2,3],[4,5,6]] )\n",
    "y = torch.tensor([[7,8,9],[10,11,12]])\n",
    "\n",
    "torch.cat((x,y), 0)"
   ]
  },
  {
   "cell_type": "markdown",
   "metadata": {
    "colab_type": "text",
    "id": "qaAOgC7NJwY9"
   },
   "source": [
    "We can see that the the tensor are concatenated Verticaly\n",
    "\n",
    "\n",
    "  * where 0- represents Dimension\n",
    "\n",
    "\n",
    "\n",
    "\n",
    "\n"
   ]
  },
  {
   "cell_type": "code",
   "execution_count": 18,
   "metadata": {
    "colab": {
     "base_uri": "https://localhost:8080/",
     "height": 50
    },
    "colab_type": "code",
    "id": "7FtHCV4bJwY_",
    "outputId": "9e1e0b68-4b3c-457d-f543-96152479628b"
   },
   "outputs": [
    {
     "data": {
      "text/plain": [
       "tensor([[ 1,  2,  3,  7,  8,  9],\n",
       "        [ 4,  5,  6, 10, 11, 12]])"
      ]
     },
     "execution_count": 18,
     "metadata": {
      "tags": []
     },
     "output_type": "execute_result"
    }
   ],
   "source": [
    "# Example 2 \n",
    "x = torch.tensor([[1,2,3],[4,5,6]] )\n",
    "y = torch.tensor([[7,8,9],[10,11,12]])\n",
    "\n",
    "torch.cat((x,y), 1)\n"
   ]
  },
  {
   "cell_type": "markdown",
   "metadata": {
    "colab_type": "text",
    "id": "QcfMpfv1JwZI"
   },
   "source": [
    "We can see that the the tensor are concatenated Horizontaly\n",
    "  * where 1- represents Dimension"
   ]
  },
  {
   "cell_type": "code",
   "execution_count": 19,
   "metadata": {
    "colab": {
     "base_uri": "https://localhost:8080/",
     "height": 195
    },
    "colab_type": "code",
    "id": "fLaWB1aBJwZJ",
    "outputId": "c93027e3-d8d8-44db-a33a-2f66668f9b9f"
   },
   "outputs": [
    {
     "ename": "IndexError",
     "evalue": "ignored",
     "output_type": "error",
     "traceback": [
      "\u001b[0;31m---------------------------------------------------------------------------\u001b[0m",
      "\u001b[0;31mIndexError\u001b[0m                                Traceback (most recent call last)",
      "\u001b[0;32m<ipython-input-19-7fac5e396bec>\u001b[0m in \u001b[0;36m<module>\u001b[0;34m()\u001b[0m\n\u001b[1;32m      4\u001b[0m \u001b[0my\u001b[0m \u001b[0;34m=\u001b[0m \u001b[0mtorch\u001b[0m\u001b[0;34m.\u001b[0m\u001b[0mtensor\u001b[0m\u001b[0;34m(\u001b[0m\u001b[0;34m[\u001b[0m\u001b[0;34m[\u001b[0m\u001b[0;36m7\u001b[0m\u001b[0;34m,\u001b[0m\u001b[0;36m8\u001b[0m\u001b[0;34m,\u001b[0m\u001b[0;36m9\u001b[0m\u001b[0;34m]\u001b[0m\u001b[0;34m,\u001b[0m\u001b[0;34m[\u001b[0m\u001b[0;36m10\u001b[0m\u001b[0;34m,\u001b[0m\u001b[0;36m11\u001b[0m\u001b[0;34m,\u001b[0m\u001b[0;36m12\u001b[0m\u001b[0;34m]\u001b[0m\u001b[0;34m]\u001b[0m\u001b[0;34m)\u001b[0m\u001b[0;34m\u001b[0m\u001b[0;34m\u001b[0m\u001b[0m\n\u001b[1;32m      5\u001b[0m \u001b[0;34m\u001b[0m\u001b[0m\n\u001b[0;32m----> 6\u001b[0;31m \u001b[0mtorch\u001b[0m\u001b[0;34m.\u001b[0m\u001b[0mcat\u001b[0m\u001b[0;34m(\u001b[0m\u001b[0;34m(\u001b[0m\u001b[0mx\u001b[0m\u001b[0;34m,\u001b[0m\u001b[0my\u001b[0m\u001b[0;34m)\u001b[0m\u001b[0;34m,\u001b[0m \u001b[0;36m2\u001b[0m\u001b[0;34m)\u001b[0m\u001b[0;34m\u001b[0m\u001b[0;34m\u001b[0m\u001b[0m\n\u001b[0m",
      "\u001b[0;31mIndexError\u001b[0m: Dimension out of range (expected to be in range of [-2, 1], but got 2)"
     ]
    }
   ],
   "source": [
    "# Example 3 - breaking \n",
    "# Example 3 - breaking (to illustrate when it breaks)\n",
    "x = torch.tensor([[1,2,3],[4,5,6]] )\n",
    "y = torch.tensor([[7,8,9],[10,11,12]])\n",
    "\n",
    "torch.cat((x,y), 2)"
   ]
  },
  {
   "cell_type": "markdown",
   "metadata": {
    "colab_type": "text",
    "id": "THqwiiA3JwZQ"
   },
   "source": [
    "We can see that the two tensors are single dimension but the given dimension to contact is a higher dimension \n",
    "So their is an error."
   ]
  },
  {
   "cell_type": "markdown",
   "metadata": {
    "colab_type": "text",
    "id": "ndGnm1LrJwZR"
   },
   "source": [
    "Concat dunction can be used to join two tensor in the requ"
   ]
  },
  {
   "cell_type": "markdown",
   "metadata": {
    "colab_type": "text",
    "id": "mRnIoJ-UJwZS"
   },
   "source": [
    "## Conclusion\n",
    "\n",
    "This notebooks covered some of the functions on tensors. For more infromation on these Functions and also many other functions are available at the documentation. link is given below."
   ]
  },
  {
   "cell_type": "markdown",
   "metadata": {
    "colab_type": "text",
    "id": "u1LwbxTWJwZU"
   },
   "source": [
    "## Reference Links\n",
    "Provide links to your references and other interesting articles about tensors\n",
    "* Official documentation for `torch.Tensor`: https://pytorch.org/docs/stable/tensors.html\n",
    "* ..."
   ]
  },
  {
   "cell_type": "code",
   "execution_count": 0,
   "metadata": {
    "colab": {},
    "colab_type": "code",
    "id": "av5IO6xQJwZt"
   },
   "outputs": [],
   "source": []
  }
 ],
 "metadata": {
  "colab": {
   "name": "Copy of 01-tensor-operations.ipynb",
   "provenance": []
  },
  "kernelspec": {
   "display_name": "Python 3",
   "language": "python",
   "name": "python3"
  },
  "language_info": {
   "codemirror_mode": {
    "name": "ipython",
    "version": 3
   },
   "file_extension": ".py",
   "mimetype": "text/x-python",
   "name": "python",
   "nbconvert_exporter": "python",
   "pygments_lexer": "ipython3",
   "version": "3.7.6"
  }
 },
 "nbformat": 4,
 "nbformat_minor": 1
}
