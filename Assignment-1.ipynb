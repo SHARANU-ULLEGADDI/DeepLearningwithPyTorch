{
  "nbformat": 4,
  "nbformat_minor": 0,
  "metadata": {
    "kernelspec": {
      "display_name": "Python 3",
      "language": "python",
      "name": "python3"
    },
    "language_info": {
      "codemirror_mode": {
        "name": "ipython",
        "version": 3
      },
      "file_extension": ".py",
      "mimetype": "text/x-python",
      "name": "python",
      "nbconvert_exporter": "python",
      "pygments_lexer": "ipython3",
      "version": "3.7.6"
    },
    "colab": {
      "name": "Copy of 01-tensor-operations.ipynb",
      "provenance": []
    }
  },
  "cells": [
    {
      "cell_type": "markdown",
      "metadata": {
        "id": "qSEDPhcoJwW6",
        "colab_type": "text"
      },
      "source": [
        "\n",
        "# Some Functions on Tensor Assignment 1 PyTorch Zero to GANs\n",
        "\n",
        "An short introduction about PyTorch and about the chosen functions. \n",
        "\n",
        "*   Function 1 : torch.arange()\n",
        "*   Function 2 : torch.cat()\n",
        "*   Function 3 : torch.view()\n",
        "*   Function 4 : torch.diag()\n",
        "*   Function 5 : touch.cat()"
      ]
    },
    {
      "cell_type": "code",
      "metadata": {
        "id": "-I8j8OQPJwW9",
        "colab_type": "code",
        "colab": {}
      },
      "source": [
        "# Import torch and other required modules\n",
        "import torch"
      ],
      "execution_count": 0,
      "outputs": []
    },
    {
      "cell_type": "markdown",
      "metadata": {
        "id": "7jFMZCJGJwXI",
        "colab_type": "text"
      },
      "source": [
        "## Function 1 -torch.arange()\n",
        "\n",
        "Returns a 1-D tensor of size end-start/step with values from the interval [start, end) taken with common difference step beginning from start.\n",
        "\n"
      ]
    },
    {
      "cell_type": "code",
      "metadata": {
        "id": "65NVyAxrJwXJ",
        "colab_type": "code",
        "outputId": "adc56e5d-6e46-46cf-de24-492f8082fcaa",
        "colab": {
          "base_uri": "https://localhost:8080/",
          "height": 34
        }
      },
      "source": [
        "# Example 1\n",
        "torch.arange(start=0,end=10,step=3)"
      ],
      "execution_count": 3,
      "outputs": [
        {
          "output_type": "execute_result",
          "data": {
            "text/plain": [
              "tensor([0, 3, 6, 9])"
            ]
          },
          "metadata": {
            "tags": []
          },
          "execution_count": 3
        }
      ]
    },
    {
      "cell_type": "markdown",
      "metadata": {
        "id": "IjB4YxO8JwXV",
        "colab_type": "text"
      },
      "source": [
        "We create a tensor using arange function where we give start to be 0 and end to be 10 wit step 3 . So the first value will be zero and later i+3,\n",
        "\n"
      ]
    },
    {
      "cell_type": "code",
      "metadata": {
        "id": "-XKaJdFgJwXW",
        "colab_type": "code",
        "outputId": "e535a15c-4c2c-4001-9b4c-bf988e487e1a",
        "colab": {
          "base_uri": "https://localhost:8080/",
          "height": 34
        }
      },
      "source": [
        "# Example 2\n",
        "torch.arange(1,1.5,0.2)"
      ],
      "execution_count": 4,
      "outputs": [
        {
          "output_type": "execute_result",
          "data": {
            "text/plain": [
              "tensor([1.0000, 1.2000, 1.4000])"
            ]
          },
          "metadata": {
            "tags": []
          },
          "execution_count": 4
        }
      ]
    },
    {
      "cell_type": "markdown",
      "metadata": {
        "id": "9coWSft-JwXe",
        "colab_type": "text"
      },
      "source": [
        "We can also give it a float value and in return we get a list of tensors .\n",
        "\n"
      ]
    },
    {
      "cell_type": "code",
      "metadata": {
        "id": "xsNwvJwXJwXg",
        "colab_type": "code",
        "outputId": "d0ababab-2f87-465c-82e7-08833bb400e9",
        "colab": {
          "base_uri": "https://localhost:8080/",
          "height": 178
        }
      },
      "source": [
        "# Example 3 - breaking \n",
        "torch.arange([1,2,3])"
      ],
      "execution_count": 5,
      "outputs": [
        {
          "output_type": "error",
          "ename": "TypeError",
          "evalue": "ignored",
          "traceback": [
            "\u001b[0;31m---------------------------------------------------------------------------\u001b[0m",
            "\u001b[0;31mTypeError\u001b[0m                                 Traceback (most recent call last)",
            "\u001b[0;32m<ipython-input-5-97d2ca80bf59>\u001b[0m in \u001b[0;36m<module>\u001b[0;34m()\u001b[0m\n\u001b[1;32m      1\u001b[0m \u001b[0;31m# Example 3 - breaking\u001b[0m\u001b[0;34m\u001b[0m\u001b[0;34m\u001b[0m\u001b[0;34m\u001b[0m\u001b[0m\n\u001b[0;32m----> 2\u001b[0;31m \u001b[0mtorch\u001b[0m\u001b[0;34m.\u001b[0m\u001b[0marange\u001b[0m\u001b[0;34m(\u001b[0m\u001b[0;34m[\u001b[0m\u001b[0;36m1\u001b[0m\u001b[0;34m,\u001b[0m\u001b[0;36m2\u001b[0m\u001b[0;34m,\u001b[0m\u001b[0;36m3\u001b[0m\u001b[0;34m]\u001b[0m\u001b[0;34m)\u001b[0m\u001b[0;34m\u001b[0m\u001b[0;34m\u001b[0m\u001b[0m\n\u001b[0m",
            "\u001b[0;31mTypeError\u001b[0m: arange(): argument 'end' (position 1) must be Number, not list"
          ]
        }
      ]
    },
    {
      "cell_type": "markdown",
      "metadata": {
        "id": "Vuyq05blJwXo",
        "colab_type": "text"
      },
      "source": [
        "We cannot pass list when creating a tensor using arange , it only accepts start , end and step\n",
        "\n",
        "Use this function when you need a specific tensors values"
      ]
    },
    {
      "cell_type": "markdown",
      "metadata": {
        "id": "YoBbpJ6UJwXp",
        "colab_type": "text"
      },
      "source": [
        "Closing comments about when to use this function"
      ]
    },
    {
      "cell_type": "markdown",
      "metadata": {
        "id": "eHyng1z7JwXr",
        "colab_type": "text"
      },
      "source": [
        "# Function 2 - torch.cat()\n",
        "Concatenates the given sequence of seq tensors in the given dimension. 0-row 1-column"
      ]
    },
    {
      "cell_type": "code",
      "metadata": {
        "id": "44YSQPnRJwXs",
        "colab_type": "code",
        "colab": {}
      },
      "source": [
        "# Example 1 - working\n",
        "x = torch.arange(1,10,3)\n",
        "x\n",
        "torch.cat((x,x,x),0)"
      ],
      "execution_count": 0,
      "outputs": []
    },
    {
      "cell_type": "markdown",
      "metadata": {
        "id": "OaHK3KQbJwX2",
        "colab_type": "text"
      },
      "source": [
        "First we create a tensor using arange function and then concatenate 3 times in rows\n",
        "\n"
      ]
    },
    {
      "cell_type": "code",
      "metadata": {
        "id": "_b_eq8zhJwX3",
        "colab_type": "code",
        "outputId": "651f058a-804f-4eb9-f7ca-f735bae68e64",
        "colab": {
          "base_uri": "https://localhost:8080/",
          "height": 134
        }
      },
      "source": [
        "# Example 2 - working\n",
        "new_data = torch.arange(1,24,2).reshape(-1,2)\n",
        "new_data\n",
        "torch.cat((new_data , torch.tensor([[1,2]])),0)"
      ],
      "execution_count": 6,
      "outputs": [
        {
          "output_type": "execute_result",
          "data": {
            "text/plain": [
              "tensor([[ 1,  3],\n",
              "        [ 5,  7],\n",
              "        [ 9, 11],\n",
              "        [13, 15],\n",
              "        [17, 19],\n",
              "        [21, 23],\n",
              "        [ 1,  2]])"
            ]
          },
          "metadata": {
            "tags": []
          },
          "execution_count": 6
        }
      ]
    },
    {
      "cell_type": "markdown",
      "metadata": {
        "id": "R9De9Zr_JwX-",
        "colab_type": "text"
      },
      "source": [
        "First we create a two dimensional arary and then concatenate them in rows\n",
        "\n"
      ]
    },
    {
      "cell_type": "code",
      "metadata": {
        "id": "6c9sO3rxJwYA",
        "colab_type": "code",
        "outputId": "e29d9342-4ed9-4cfc-e6e7-0c3b1af2ee4a",
        "colab": {
          "base_uri": "https://localhost:8080/",
          "height": 212
        }
      },
      "source": [
        "# Example 3 - breaking \n",
        "new_data\n",
        "x\n",
        "torch.cat((new_data,x))"
      ],
      "execution_count": 7,
      "outputs": [
        {
          "output_type": "error",
          "ename": "NameError",
          "evalue": "ignored",
          "traceback": [
            "\u001b[0;31m---------------------------------------------------------------------------\u001b[0m",
            "\u001b[0;31mNameError\u001b[0m                                 Traceback (most recent call last)",
            "\u001b[0;32m<ipython-input-7-d4c900ef5b98>\u001b[0m in \u001b[0;36m<module>\u001b[0;34m()\u001b[0m\n\u001b[1;32m      1\u001b[0m \u001b[0;31m# Example 3 - breaking\u001b[0m\u001b[0;34m\u001b[0m\u001b[0;34m\u001b[0m\u001b[0;34m\u001b[0m\u001b[0m\n\u001b[1;32m      2\u001b[0m \u001b[0mnew_data\u001b[0m\u001b[0;34m\u001b[0m\u001b[0;34m\u001b[0m\u001b[0m\n\u001b[0;32m----> 3\u001b[0;31m \u001b[0mx\u001b[0m\u001b[0;34m\u001b[0m\u001b[0;34m\u001b[0m\u001b[0m\n\u001b[0m\u001b[1;32m      4\u001b[0m \u001b[0mtorch\u001b[0m\u001b[0;34m.\u001b[0m\u001b[0mcat\u001b[0m\u001b[0;34m(\u001b[0m\u001b[0;34m(\u001b[0m\u001b[0mnew_data\u001b[0m\u001b[0;34m,\u001b[0m\u001b[0mx\u001b[0m\u001b[0;34m)\u001b[0m\u001b[0;34m)\u001b[0m\u001b[0;34m\u001b[0m\u001b[0;34m\u001b[0m\u001b[0m\n",
            "\u001b[0;31mNameError\u001b[0m: name 'x' is not defined"
          ]
        }
      ]
    },
    {
      "cell_type": "markdown",
      "metadata": {
        "id": "w1UInClGJwYE",
        "colab_type": "text"
      },
      "source": [
        "When concatating tensor should have same dimesion , here when we tried to concat a tensor with (1,) dim with tensor with (2,) dim it thrown an error\n",
        "\n",
        "\n",
        "*   Use this function when u want to make two tensor into one\n",
        "\n",
        "\n",
        "\n",
        "\n",
        "\n"
      ]
    },
    {
      "cell_type": "markdown",
      "metadata": {
        "id": "OJb6l7uaJwYG",
        "colab_type": "text"
      },
      "source": [
        "Closing comments about when to use this function"
      ]
    },
    {
      "cell_type": "markdown",
      "metadata": {
        "id": "LJOzFp58JwYH",
        "colab_type": "text"
      },
      "source": [
        "## Function 3 - torch.view()\n",
        "view() modifies the shape of the tensor. tensor.view returns a tensor that has the same data and same number of elements as the original tensor but changes only the shape of the tensor. view() does not change the underlaying data but only the shape.\n"
      ]
    },
    {
      "cell_type": "code",
      "metadata": {
        "id": "8peotokMJwYI",
        "colab_type": "code",
        "outputId": "c7938f8b-cb2d-46bb-f197-fdbf045778ba",
        "colab": {
          "base_uri": "https://localhost:8080/",
          "height": 67
        }
      },
      "source": [
        "# Example 1 - working \n",
        "a = torch.rand(3,5)\n",
        "print(a.size())\n",
        "b = a.view(15)\n",
        "print(b.size())\n",
        "c = a.view(-1,3)\n",
        "print(c.size())"
      ],
      "execution_count": 8,
      "outputs": [
        {
          "output_type": "stream",
          "text": [
            "torch.Size([3, 5])\n",
            "torch.Size([15])\n",
            "torch.Size([5, 3])\n"
          ],
          "name": "stdout"
        }
      ]
    },
    {
      "cell_type": "markdown",
      "metadata": {
        "id": "3U0sM7jJJwYL",
        "colab_type": "text"
      },
      "source": [
        "b is a tensor created from a.view(15) that reshaped the 2D tensor into a 1D tensor. To create tensor c from a using tensor.view we passed the first dimension as -1 and second dimension as 3. The first dimension is inferred from the shape of original tensor.\n",
        "\n"
      ]
    },
    {
      "cell_type": "code",
      "metadata": {
        "id": "IMLK_OitJwYM",
        "colab_type": "code",
        "outputId": "7289b875-5ab7-4592-c6fa-f29fe5ddd2d8",
        "colab": {
          "base_uri": "https://localhost:8080/",
          "height": 151
        }
      },
      "source": [
        "# Example 2 - working\n",
        "# Create tensor from NumPy array\n",
        "a = torch.tensor([[1, 2, 3], [4, 5, 6]])\n",
        "print(a)\n",
        "# Reshape to 3 dimensions: 3 rows, 1 cols, array of 2 items in last dimension\n",
        "b = a.view(-1, 1, 2)\n",
        "print(b, '\\n', b.shape)"
      ],
      "execution_count": 9,
      "outputs": [
        {
          "output_type": "stream",
          "text": [
            "tensor([[1, 2, 3],\n",
            "        [4, 5, 6]])\n",
            "tensor([[[1, 2]],\n",
            "\n",
            "        [[3, 4]],\n",
            "\n",
            "        [[5, 6]]]) \n",
            " torch.Size([3, 1, 2])\n"
          ],
          "name": "stdout"
        }
      ]
    },
    {
      "cell_type": "markdown",
      "metadata": {
        "id": "lehKDZaGJwYQ",
        "colab_type": "text"
      },
      "source": [
        "In this example, tensor a is reshaped from 2D to a 3D tensor using tensor.view\n",
        "\n"
      ]
    },
    {
      "cell_type": "code",
      "metadata": {
        "id": "6-BIVh-pJwYR",
        "colab_type": "code",
        "outputId": "3a209559-b234-41c7-c03f-2e6aa7a166cf",
        "colab": {
          "base_uri": "https://localhost:8080/",
          "height": 195
        }
      },
      "source": [
        "# Example 3 - breaking\n",
        "a = torch.rand(3,5)\n",
        "b = a.view(-1,2)"
      ],
      "execution_count": 10,
      "outputs": [
        {
          "output_type": "error",
          "ename": "RuntimeError",
          "evalue": "ignored",
          "traceback": [
            "\u001b[0;31m---------------------------------------------------------------------------\u001b[0m",
            "\u001b[0;31mRuntimeError\u001b[0m                              Traceback (most recent call last)",
            "\u001b[0;32m<ipython-input-10-34660672f2bc>\u001b[0m in \u001b[0;36m<module>\u001b[0;34m()\u001b[0m\n\u001b[1;32m      1\u001b[0m \u001b[0;31m# Example 3 - breaking\u001b[0m\u001b[0;34m\u001b[0m\u001b[0;34m\u001b[0m\u001b[0;34m\u001b[0m\u001b[0m\n\u001b[1;32m      2\u001b[0m \u001b[0ma\u001b[0m \u001b[0;34m=\u001b[0m \u001b[0mtorch\u001b[0m\u001b[0;34m.\u001b[0m\u001b[0mrand\u001b[0m\u001b[0;34m(\u001b[0m\u001b[0;36m3\u001b[0m\u001b[0;34m,\u001b[0m\u001b[0;36m5\u001b[0m\u001b[0;34m)\u001b[0m\u001b[0;34m\u001b[0m\u001b[0;34m\u001b[0m\u001b[0m\n\u001b[0;32m----> 3\u001b[0;31m \u001b[0mb\u001b[0m \u001b[0;34m=\u001b[0m \u001b[0ma\u001b[0m\u001b[0;34m.\u001b[0m\u001b[0mview\u001b[0m\u001b[0;34m(\u001b[0m\u001b[0;34m-\u001b[0m\u001b[0;36m1\u001b[0m\u001b[0;34m,\u001b[0m\u001b[0;36m2\u001b[0m\u001b[0;34m)\u001b[0m\u001b[0;34m\u001b[0m\u001b[0;34m\u001b[0m\u001b[0m\n\u001b[0m",
            "\u001b[0;31mRuntimeError\u001b[0m: shape '[-1, 2]' is invalid for input of size 15"
          ]
        }
      ]
    },
    {
      "cell_type": "markdown",
      "metadata": {
        "id": "d8Ryq9PgJwYX",
        "colab_type": "text"
      },
      "source": [
        "The size of new tensor to be viewed should be compatible with the size of the original tensor. If not it throws an error. In this example, it is not possible to reshape the original tensor to have 2 columns as the number of elements in original tensor is not divisible by 2."
      ]
    },
    {
      "cell_type": "markdown",
      "metadata": {
        "id": "nAqnVjlBJwYZ",
        "colab_type": "text"
      },
      "source": [
        "tensor.view is a very useful function while reshapeing a tensor."
      ]
    },
    {
      "cell_type": "markdown",
      "metadata": {
        "id": "5uVCRNeuJwYa",
        "colab_type": "text"
      },
      "source": [
        "## Function 4 - torch.diag(input, diagonal=0, out=None)\n",
        "\n",
        "Used while dealing with the diagonal **elements**"
      ]
    },
    {
      "cell_type": "code",
      "metadata": {
        "id": "TVq7W__3JwYb",
        "colab_type": "code",
        "outputId": "75191a3f-6999-4658-d8aa-de195eaee1a7",
        "colab": {
          "base_uri": "https://localhost:8080/",
          "height": 34
        }
      },
      "source": [
        "# Example 1 - \n",
        "a = torch.randn(3)\n",
        "a\n"
      ],
      "execution_count": 11,
      "outputs": [
        {
          "output_type": "execute_result",
          "data": {
            "text/plain": [
              "tensor([-0.6226, -0.7727,  0.2172])"
            ]
          },
          "metadata": {
            "tags": []
          },
          "execution_count": 11
        }
      ]
    },
    {
      "cell_type": "code",
      "metadata": {
        "id": "W1SUx6AgOO98",
        "colab_type": "code",
        "outputId": "8fb2ec7a-5ef7-4d97-e857-40c6eab4d080",
        "colab": {
          "base_uri": "https://localhost:8080/",
          "height": 67
        }
      },
      "source": [
        "torch.diag(a)"
      ],
      "execution_count": 12,
      "outputs": [
        {
          "output_type": "execute_result",
          "data": {
            "text/plain": [
              "tensor([[-0.6226,  0.0000,  0.0000],\n",
              "        [ 0.0000, -0.7727,  0.0000],\n",
              "        [ 0.0000,  0.0000,  0.2172]])"
            ]
          },
          "metadata": {
            "tags": []
          },
          "execution_count": 12
        }
      ]
    },
    {
      "cell_type": "markdown",
      "metadata": {
        "id": "vyy3_ruXJwYi",
        "colab_type": "text"
      },
      "source": [
        "We can see the 1D array elements has been converted to 3D, where the array elments are converted into Diagonal Elements"
      ]
    },
    {
      "cell_type": "code",
      "metadata": {
        "id": "A-qb34sKJwYk",
        "colab_type": "code",
        "outputId": "a66c50a1-bd05-4b0d-af71-1c7ca379c56e",
        "colab": {
          "base_uri": "https://localhost:8080/",
          "height": 84
        }
      },
      "source": [
        "# Example 2 - \n",
        "torch.diag(a, 1)"
      ],
      "execution_count": 13,
      "outputs": [
        {
          "output_type": "execute_result",
          "data": {
            "text/plain": [
              "tensor([[ 0.0000, -0.6226,  0.0000,  0.0000],\n",
              "        [ 0.0000,  0.0000, -0.7727,  0.0000],\n",
              "        [ 0.0000,  0.0000,  0.0000,  0.2172],\n",
              "        [ 0.0000,  0.0000,  0.0000,  0.0000]])"
            ]
          },
          "metadata": {
            "tags": []
          },
          "execution_count": 13
        }
      ]
    },
    {
      "cell_type": "markdown",
      "metadata": {
        "id": "Zvgt7qTQJwYr",
        "colab_type": "text"
      },
      "source": [
        "We can see that by using 1 while defining the function we can set where to get the diagonal Elements."
      ]
    },
    {
      "cell_type": "code",
      "metadata": {
        "id": "nbrtpP0jJwYs",
        "colab_type": "code",
        "outputId": "9ca90b67-dec5-4cdd-ccf1-ff07358cc0af",
        "colab": {
          "base_uri": "https://localhost:8080/",
          "height": 67
        }
      },
      "source": [
        "# Example 3 - \n",
        "#Get the k-th diagonal of a given matrix:\n",
        "a = torch.randn(3, 3)\n",
        "a"
      ],
      "execution_count": 14,
      "outputs": [
        {
          "output_type": "execute_result",
          "data": {
            "text/plain": [
              "tensor([[ 0.5209, -1.5485,  1.5142],\n",
              "        [-0.0901, -0.3162,  1.8853],\n",
              "        [-0.8377, -1.3644, -1.6201]])"
            ]
          },
          "metadata": {
            "tags": []
          },
          "execution_count": 14
        }
      ]
    },
    {
      "cell_type": "code",
      "metadata": {
        "id": "46-xMMbvPPXk",
        "colab_type": "code",
        "outputId": "c5fb11f4-cbe0-4c30-929d-dc5298d82452",
        "colab": {
          "base_uri": "https://localhost:8080/",
          "height": 34
        }
      },
      "source": [
        "torch.diag(a, 0)"
      ],
      "execution_count": 15,
      "outputs": [
        {
          "output_type": "execute_result",
          "data": {
            "text/plain": [
              "tensor([ 0.5209, -0.3162, -1.6201])"
            ]
          },
          "metadata": {
            "tags": []
          },
          "execution_count": 15
        }
      ]
    },
    {
      "cell_type": "code",
      "metadata": {
        "id": "EbbxuplkPO7Y",
        "colab_type": "code",
        "outputId": "748be0fd-7668-493e-afc9-3b5f9321c751",
        "colab": {
          "base_uri": "https://localhost:8080/",
          "height": 34
        }
      },
      "source": [
        "torch.diag(a, 1)"
      ],
      "execution_count": 16,
      "outputs": [
        {
          "output_type": "execute_result",
          "data": {
            "text/plain": [
              "tensor([-1.5485,  1.8853])"
            ]
          },
          "metadata": {
            "tags": []
          },
          "execution_count": 16
        }
      ]
    },
    {
      "cell_type": "markdown",
      "metadata": {
        "id": "fm_2CIDdJwYz",
        "colab_type": "text"
      },
      "source": [
        "We can even get the Diagonal elements and also we can select which diagonal elemets we are going to select."
      ]
    },
    {
      "cell_type": "markdown",
      "metadata": {
        "id": "jQo4to47JwY1",
        "colab_type": "text"
      },
      "source": [
        "Diagonal functions heelp when we are required to deal with diagonal elements in a multi dimensional-tensor"
      ]
    },
    {
      "cell_type": "markdown",
      "metadata": {
        "id": "APGdY00gJwY2",
        "colab_type": "text"
      },
      "source": [
        "## Function 5 - touch.cat()\n",
        "\n",
        "Used to Concat two tensors\n",
        "\n"
      ]
    },
    {
      "cell_type": "code",
      "metadata": {
        "id": "oOi4O6TjJwY4",
        "colab_type": "code",
        "outputId": "3d69cbc3-14b8-425b-e79b-18878b4b2051",
        "colab": {
          "base_uri": "https://localhost:8080/",
          "height": 84
        }
      },
      "source": [
        "# Example 1\n",
        "\n",
        "x = torch.tensor([[1,2,3],[4,5,6]] )\n",
        "y = torch.tensor([[7,8,9],[10,11,12]])\n",
        "\n",
        "torch.cat((x,y), 0)"
      ],
      "execution_count": 17,
      "outputs": [
        {
          "output_type": "execute_result",
          "data": {
            "text/plain": [
              "tensor([[ 1,  2,  3],\n",
              "        [ 4,  5,  6],\n",
              "        [ 7,  8,  9],\n",
              "        [10, 11, 12]])"
            ]
          },
          "metadata": {
            "tags": []
          },
          "execution_count": 17
        }
      ]
    },
    {
      "cell_type": "markdown",
      "metadata": {
        "id": "qaAOgC7NJwY9",
        "colab_type": "text"
      },
      "source": [
        "We can see that the the tensor are concatenated Verticaly\n",
        "\n",
        "\n",
        "  * where 0- represents Dimension\n",
        "\n",
        "\n",
        "\n",
        "\n",
        "\n"
      ]
    },
    {
      "cell_type": "code",
      "metadata": {
        "id": "7FtHCV4bJwY_",
        "colab_type": "code",
        "outputId": "9e1e0b68-4b3c-457d-f543-96152479628b",
        "colab": {
          "base_uri": "https://localhost:8080/",
          "height": 50
        }
      },
      "source": [
        "# Example 2 \n",
        "x = torch.tensor([[1,2,3],[4,5,6]] )\n",
        "y = torch.tensor([[7,8,9],[10,11,12]])\n",
        "\n",
        "torch.cat((x,y), 1)\n"
      ],
      "execution_count": 18,
      "outputs": [
        {
          "output_type": "execute_result",
          "data": {
            "text/plain": [
              "tensor([[ 1,  2,  3,  7,  8,  9],\n",
              "        [ 4,  5,  6, 10, 11, 12]])"
            ]
          },
          "metadata": {
            "tags": []
          },
          "execution_count": 18
        }
      ]
    },
    {
      "cell_type": "markdown",
      "metadata": {
        "id": "QcfMpfv1JwZI",
        "colab_type": "text"
      },
      "source": [
        "We can see that the the tensor are concatenated Horizontaly\n",
        "  * where 1- represents Dimension"
      ]
    },
    {
      "cell_type": "code",
      "metadata": {
        "id": "fLaWB1aBJwZJ",
        "colab_type": "code",
        "outputId": "c93027e3-d8d8-44db-a33a-2f66668f9b9f",
        "colab": {
          "base_uri": "https://localhost:8080/",
          "height": 195
        }
      },
      "source": [
        "# Example 3 - breaking \n",
        "# Example 3 - breaking (to illustrate when it breaks)\n",
        "x = torch.tensor([[1,2,3],[4,5,6]] )\n",
        "y = torch.tensor([[7,8,9],[10,11,12]])\n",
        "\n",
        "torch.cat((x,y), 2)"
      ],
      "execution_count": 19,
      "outputs": [
        {
          "output_type": "error",
          "ename": "IndexError",
          "evalue": "ignored",
          "traceback": [
            "\u001b[0;31m---------------------------------------------------------------------------\u001b[0m",
            "\u001b[0;31mIndexError\u001b[0m                                Traceback (most recent call last)",
            "\u001b[0;32m<ipython-input-19-7fac5e396bec>\u001b[0m in \u001b[0;36m<module>\u001b[0;34m()\u001b[0m\n\u001b[1;32m      4\u001b[0m \u001b[0my\u001b[0m \u001b[0;34m=\u001b[0m \u001b[0mtorch\u001b[0m\u001b[0;34m.\u001b[0m\u001b[0mtensor\u001b[0m\u001b[0;34m(\u001b[0m\u001b[0;34m[\u001b[0m\u001b[0;34m[\u001b[0m\u001b[0;36m7\u001b[0m\u001b[0;34m,\u001b[0m\u001b[0;36m8\u001b[0m\u001b[0;34m,\u001b[0m\u001b[0;36m9\u001b[0m\u001b[0;34m]\u001b[0m\u001b[0;34m,\u001b[0m\u001b[0;34m[\u001b[0m\u001b[0;36m10\u001b[0m\u001b[0;34m,\u001b[0m\u001b[0;36m11\u001b[0m\u001b[0;34m,\u001b[0m\u001b[0;36m12\u001b[0m\u001b[0;34m]\u001b[0m\u001b[0;34m]\u001b[0m\u001b[0;34m)\u001b[0m\u001b[0;34m\u001b[0m\u001b[0;34m\u001b[0m\u001b[0m\n\u001b[1;32m      5\u001b[0m \u001b[0;34m\u001b[0m\u001b[0m\n\u001b[0;32m----> 6\u001b[0;31m \u001b[0mtorch\u001b[0m\u001b[0;34m.\u001b[0m\u001b[0mcat\u001b[0m\u001b[0;34m(\u001b[0m\u001b[0;34m(\u001b[0m\u001b[0mx\u001b[0m\u001b[0;34m,\u001b[0m\u001b[0my\u001b[0m\u001b[0;34m)\u001b[0m\u001b[0;34m,\u001b[0m \u001b[0;36m2\u001b[0m\u001b[0;34m)\u001b[0m\u001b[0;34m\u001b[0m\u001b[0;34m\u001b[0m\u001b[0m\n\u001b[0m",
            "\u001b[0;31mIndexError\u001b[0m: Dimension out of range (expected to be in range of [-2, 1], but got 2)"
          ]
        }
      ]
    },
    {
      "cell_type": "markdown",
      "metadata": {
        "id": "THqwiiA3JwZQ",
        "colab_type": "text"
      },
      "source": [
        "We can see that the two tensors are single dimension but the given dimension to contact is a higher dimension \n",
        "So their is an error."
      ]
    },
    {
      "cell_type": "markdown",
      "metadata": {
        "id": "ndGnm1LrJwZR",
        "colab_type": "text"
      },
      "source": [
        "Concat dunction can be used to join two tensor in the requ"
      ]
    },
    {
      "cell_type": "markdown",
      "metadata": {
        "id": "mRnIoJ-UJwZS",
        "colab_type": "text"
      },
      "source": [
        "## Conclusion\n",
        "\n",
        "This notebooks covered some of the functions on tensors. For more infromation on these Functions and also many other functions are available at the documentation. link is given below."
      ]
    },
    {
      "cell_type": "markdown",
      "metadata": {
        "id": "u1LwbxTWJwZU",
        "colab_type": "text"
      },
      "source": [
        "## Reference Links\n",
        "Provide links to your references and other interesting articles about tensors\n",
        "* Official documentation for `torch.Tensor`: https://pytorch.org/docs/stable/tensors.html\n",
        "* ..."
      ]
    },
    {
      "cell_type": "code",
      "metadata": {
        "id": "3fegE13KJwZW",
        "colab_type": "code",
        "outputId": "ca935b5c-922a-4cac-d240-bdfc2f86cca3",
        "colab": {
          "base_uri": "https://localhost:8080/",
          "height": 50
        }
      },
      "source": [
        "!pip install jovian --upgrade --quiet"
      ],
      "execution_count": 20,
      "outputs": [
        {
          "output_type": "stream",
          "text": [
            "\u001b[?25l\r\u001b[K     |████                            | 10kB 25.2MB/s eta 0:00:01\r\u001b[K     |███████▉                        | 20kB 1.8MB/s eta 0:00:01\r\u001b[K     |███████████▉                    | 30kB 2.3MB/s eta 0:00:01\r\u001b[K     |███████████████▊                | 40kB 2.6MB/s eta 0:00:01\r\u001b[K     |███████████████████▋            | 51kB 2.0MB/s eta 0:00:01\r\u001b[K     |███████████████████████▋        | 61kB 2.3MB/s eta 0:00:01\r\u001b[K     |███████████████████████████▌    | 71kB 2.5MB/s eta 0:00:01\r\u001b[K     |███████████████████████████████▍| 81kB 2.8MB/s eta 0:00:01\r\u001b[K     |████████████████████████████████| 92kB 2.5MB/s \n",
            "\u001b[?25h  Building wheel for uuid (setup.py) ... \u001b[?25l\u001b[?25hdone\n"
          ],
          "name": "stdout"
        }
      ]
    },
    {
      "cell_type": "code",
      "metadata": {
        "id": "uj46c6SNJwZd",
        "colab_type": "code",
        "colab": {}
      },
      "source": [
        "import jovian"
      ],
      "execution_count": 0,
      "outputs": []
    },
    {
      "cell_type": "code",
      "metadata": {
        "id": "Rn0BUZ3rJwZl",
        "colab_type": "code",
        "outputId": "80fb77bc-1adf-408c-d376-47708f2e8480",
        "colab": {
          "base_uri": "https://localhost:8080/",
          "height": 34
        }
      },
      "source": [
        "jovian.commit()"
      ],
      "execution_count": 22,
      "outputs": [
        {
          "output_type": "stream",
          "text": [
            "\u001b[31m[jovian] Error: Failed to detect Jupyter notebook or Python script. Skipping..\u001b[0m\n"
          ],
          "name": "stderr"
        }
      ]
    },
    {
      "cell_type": "code",
      "metadata": {
        "id": "av5IO6xQJwZt",
        "colab_type": "code",
        "colab": {}
      },
      "source": [
        ""
      ],
      "execution_count": 0,
      "outputs": []
    }
  ]
}